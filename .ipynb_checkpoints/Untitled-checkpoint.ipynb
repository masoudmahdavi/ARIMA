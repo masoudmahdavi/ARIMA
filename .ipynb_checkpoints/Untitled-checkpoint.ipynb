{
 "cells": [
  {
   "cell_type": "code",
   "execution_count": 246,
   "id": "65903d69",
   "metadata": {},
   "outputs": [],
   "source": [
    "import pandas as pd\n",
    "import numpy as np\n",
    "import re"
   ]
  },
  {
   "cell_type": "code",
   "execution_count": 445,
   "id": "81e22c9a",
   "metadata": {},
   "outputs": [],
   "source": [
    "df = pd.read_csv(\"XAUUSD.csv\")\n",
    "df = df.rename(columns ={\"XAUUSD Historical Data\" : \"Date\", \"Unnamed: 1\": \"Open\", \"Unnamed: 2\": \"High\",\n",
    "                   \"Unnamed: 3\": \"Low\", \"Unnamed: 4\": \"Close\", \"Unnamed: 5\": \"Change(Pips)\", \n",
    "                   \"Unnamed: 6\": \"Change(%)\"})\n",
    "df.drop(0 ,axis=0, inplace=True)\n",
    "df = df.reset_index(drop = True)\n",
    "df = df.astype({'Open':'float','High':'float','Low':'float','Close':'float','Change(Pips)':'float',\n",
    "                'Change(%)':'float'})"
   ]
  },
  {
   "cell_type": "code",
   "execution_count": 446,
   "id": "538181ed",
   "metadata": {},
   "outputs": [],
   "source": [
    "#re.findall(r\"^([\\w]*)/([\\w]*)/([\\w]*) \"\n",
    "df['year']=df[\"Date\"].apply(lambda x: re.search(r\"^([\\w]*)/([\\w]*)/([\\w]*)\",x)[3])\n",
    "df['day']=df[\"Date\"].apply(lambda x: re.search(r\"^([\\w]*)/([\\w]*)/\",x)[2])\n",
    "df['month']=df[\"Date\"].apply(lambda x: re.search(r\"^([\\w]*)/\",x)[1])\n",
    "df['ds'] = pd.DatetimeIndex(df['year']+'-'+df['month']+'-'+df['day'])"
   ]
  },
  {
   "cell_type": "code",
   "execution_count": 447,
   "id": "1db2d54f",
   "metadata": {},
   "outputs": [
    {
     "data": {
      "text/html": [
       "<div>\n",
       "<style scoped>\n",
       "    .dataframe tbody tr th:only-of-type {\n",
       "        vertical-align: middle;\n",
       "    }\n",
       "\n",
       "    .dataframe tbody tr th {\n",
       "        vertical-align: top;\n",
       "    }\n",
       "\n",
       "    .dataframe thead th {\n",
       "        text-align: right;\n",
       "    }\n",
       "</style>\n",
       "<table border=\"1\" class=\"dataframe\">\n",
       "  <thead>\n",
       "    <tr style=\"text-align: right;\">\n",
       "      <th></th>\n",
       "      <th>Close</th>\n",
       "    </tr>\n",
       "  </thead>\n",
       "  <tbody>\n",
       "    <tr>\n",
       "      <th>count</th>\n",
       "      <td>622.000000</td>\n",
       "    </tr>\n",
       "    <tr>\n",
       "      <th>mean</th>\n",
       "      <td>1833.592749</td>\n",
       "    </tr>\n",
       "    <tr>\n",
       "      <th>std</th>\n",
       "      <td>94.345885</td>\n",
       "    </tr>\n",
       "    <tr>\n",
       "      <th>min</th>\n",
       "      <td>1626.890000</td>\n",
       "    </tr>\n",
       "    <tr>\n",
       "      <th>25%</th>\n",
       "      <td>1774.957500</td>\n",
       "    </tr>\n",
       "    <tr>\n",
       "      <th>50%</th>\n",
       "      <td>1815.470000</td>\n",
       "    </tr>\n",
       "    <tr>\n",
       "      <th>75%</th>\n",
       "      <td>1914.700000</td>\n",
       "    </tr>\n",
       "    <tr>\n",
       "      <th>max</th>\n",
       "      <td>2051.930000</td>\n",
       "    </tr>\n",
       "  </tbody>\n",
       "</table>\n",
       "</div>"
      ],
      "text/plain": [
       "             Close\n",
       "count   622.000000\n",
       "mean   1833.592749\n",
       "std      94.345885\n",
       "min    1626.890000\n",
       "25%    1774.957500\n",
       "50%    1815.470000\n",
       "75%    1914.700000\n",
       "max    2051.930000"
      ]
     },
     "execution_count": 447,
     "metadata": {},
     "output_type": "execute_result"
    }
   ],
   "source": [
    "df.drop(['Date','year','month','day','Change(Pips)','Change(%)','High','Low','Open'], axis=1, inplace=True) #Change(Pips),Change(%) could drop from dataframe\n",
    "df.describe()\n",
    "df.plot('ds')"
   ]
  },
  {
   "cell_type": "code",
   "execution_count": 455,
   "id": "b32b3692",
   "metadata": {},
   "outputs": [
    {
     "data": {
      "text/html": [
       "<div>\n",
       "<style scoped>\n",
       "    .dataframe tbody tr th:only-of-type {\n",
       "        vertical-align: middle;\n",
       "    }\n",
       "\n",
       "    .dataframe tbody tr th {\n",
       "        vertical-align: top;\n",
       "    }\n",
       "\n",
       "    .dataframe thead th {\n",
       "        text-align: right;\n",
       "    }\n",
       "</style>\n",
       "<table border=\"1\" class=\"dataframe\">\n",
       "  <thead>\n",
       "    <tr style=\"text-align: right;\">\n",
       "      <th></th>\n",
       "      <th>Close</th>\n",
       "      <th>ds</th>\n",
       "    </tr>\n",
       "  </thead>\n",
       "  <tbody>\n",
       "    <tr>\n",
       "      <th>0</th>\n",
       "      <td>1929.65</td>\n",
       "      <td>2023-07-04</td>\n",
       "    </tr>\n",
       "    <tr>\n",
       "      <th>1</th>\n",
       "      <td>1921.17</td>\n",
       "      <td>2023-07-03</td>\n",
       "    </tr>\n",
       "    <tr>\n",
       "      <th>2</th>\n",
       "      <td>1917.70</td>\n",
       "      <td>2023-07-02</td>\n",
       "    </tr>\n",
       "    <tr>\n",
       "      <th>3</th>\n",
       "      <td>1919.20</td>\n",
       "      <td>2023-06-30</td>\n",
       "    </tr>\n",
       "    <tr>\n",
       "      <th>4</th>\n",
       "      <td>1908.76</td>\n",
       "      <td>2023-06-29</td>\n",
       "    </tr>\n",
       "    <tr>\n",
       "      <th>...</th>\n",
       "      <td>...</td>\n",
       "      <td>...</td>\n",
       "    </tr>\n",
       "    <tr>\n",
       "      <th>617</th>\n",
       "      <td>1803.75</td>\n",
       "      <td>2021-07-08</td>\n",
       "    </tr>\n",
       "    <tr>\n",
       "      <th>618</th>\n",
       "      <td>1803.22</td>\n",
       "      <td>2021-07-07</td>\n",
       "    </tr>\n",
       "    <tr>\n",
       "      <th>619</th>\n",
       "      <td>1795.68</td>\n",
       "      <td>2021-07-06</td>\n",
       "    </tr>\n",
       "    <tr>\n",
       "      <th>620</th>\n",
       "      <td>1791.15</td>\n",
       "      <td>2021-07-05</td>\n",
       "    </tr>\n",
       "    <tr>\n",
       "      <th>621</th>\n",
       "      <td>1786.39</td>\n",
       "      <td>2021-07-04</td>\n",
       "    </tr>\n",
       "  </tbody>\n",
       "</table>\n",
       "<p>622 rows × 2 columns</p>\n",
       "</div>"
      ],
      "text/plain": [
       "       Close         ds\n",
       "0    1929.65 2023-07-04\n",
       "1    1921.17 2023-07-03\n",
       "2    1917.70 2023-07-02\n",
       "3    1919.20 2023-06-30\n",
       "4    1908.76 2023-06-29\n",
       "..       ...        ...\n",
       "617  1803.75 2021-07-08\n",
       "618  1803.22 2021-07-07\n",
       "619  1795.68 2021-07-06\n",
       "620  1791.15 2021-07-05\n",
       "621  1786.39 2021-07-04\n",
       "\n",
       "[622 rows x 2 columns]"
      ]
     },
     "execution_count": 455,
     "metadata": {},
     "output_type": "execute_result"
    }
   ],
   "source": [
    "df.set_index('month')"
   ]
  },
  {
   "cell_type": "code",
   "execution_count": 419,
   "id": "28745435",
   "metadata": {},
   "outputs": [],
   "source": [
    "train = (df.index < round(df.index.stop * 0.7))\n",
    "test = (df.index >= round(df.index.stop * 0.7))\n",
    "df_trian = df[train]\n",
    "df_test = df[test]"
   ]
  },
  {
   "cell_type": "code",
   "execution_count": null,
   "id": "b6b308a6",
   "metadata": {},
   "outputs": [],
   "source": []
  }
 ],
 "metadata": {
  "kernelspec": {
   "display_name": "Python 3 (ipykernel)",
   "language": "python",
   "name": "python3"
  },
  "language_info": {
   "codemirror_mode": {
    "name": "ipython",
    "version": 3
   },
   "file_extension": ".py",
   "mimetype": "text/x-python",
   "name": "python",
   "nbconvert_exporter": "python",
   "pygments_lexer": "ipython3",
   "version": "3.9.12"
  }
 },
 "nbformat": 4,
 "nbformat_minor": 5
}
